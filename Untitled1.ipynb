{
  "nbformat": 4,
  "nbformat_minor": 0,
  "metadata": {
    "colab": {
      "name": "Untitled1.ipynb",
      "provenance": [],
      "authorship_tag": "ABX9TyNRgEpWdbongZ4FL87qu5Sf",
      "include_colab_link": true
    },
    "kernelspec": {
      "name": "python3",
      "display_name": "Python 3"
    },
    "language_info": {
      "name": "python"
    }
  },
  "cells": [
    {
      "cell_type": "markdown",
      "metadata": {
        "id": "view-in-github",
        "colab_type": "text"
      },
      "source": [
        "<a href=\"https://colab.research.google.com/github/anju676/TTA_HLT/blob/main/Untitled1.ipynb\" target=\"_parent\"><img src=\"https://colab.research.google.com/assets/colab-badge.svg\" alt=\"Open In Colab\"/></a>"
      ]
    },
    {
      "cell_type": "code",
      "metadata": {
        "id": "UoH7zF00BxRo"
      },
      "source": [
        "my_1d_list=[3,45,83,2]"
      ],
      "execution_count": 1,
      "outputs": []
    },
    {
      "cell_type": "code",
      "metadata": {
        "id": "T3GbLmQzCpeh"
      },
      "source": [
        ""
      ],
      "execution_count": null,
      "outputs": []
    },
    {
      "cell_type": "code",
      "metadata": {
        "colab": {
          "base_uri": "https://localhost:8080/"
        },
        "id": "MqXs1zjJ1N7B",
        "outputId": "6f654680-7aab-48dd-df8c-81d15f2146f6"
      },
      "source": [
        "print(my_1d_list)"
      ],
      "execution_count": 2,
      "outputs": [
        {
          "output_type": "stream",
          "name": "stdout",
          "text": [
            "[3, 45, 83, 2]\n"
          ]
        }
      ]
    },
    {
      "cell_type": "code",
      "metadata": {
        "id": "uTxhrcOrC3be"
      },
      "source": [
        "my_file= open(\"NUMBERS.txt\",\"w\")\n",
        "my_file.write(\"3,45,83,2\")\n",
        "my_file.close()\n",
        "my_file=open(\"NUMBERS.txt\",\"a\")\n",
        "my_file.close()"
      ],
      "execution_count": 8,
      "outputs": []
    },
    {
      "cell_type": "code",
      "metadata": {
        "id": "4AcAZdPnJYYP",
        "colab": {
          "base_uri": "https://localhost:8080/",
          "height": 130
        },
        "outputId": "4e195cc8-81d2-4c7a-d88a-2ffd8f07fbe1"
      },
      "source": [
        "mark_input=int(input(\"Hello student, Please enter your Mark\")\n",
        "If mark_input<=100 and mark_input>=80:\n",
        " grade=\"A\"\n",
        " Elif mark_input<80 and mark_input>=70:\n",
        " grade=\"B\"\n",
        " Elif mark_input<60 and mark_input>=50:\n",
        " grade=\"D\"\n",
        " Elif mark_input<50 and mark_input>=40:\n",
        " grade=\"U\"\n",
        " Else:\n",
        " grade=\"Error\"\n",
        " Print(\"You have not entered correct value.\")\n",
        " Print(\"You have achieved:\", grade)\n",
        " Return mark_input\n"
      ],
      "execution_count": 14,
      "outputs": [
        {
          "output_type": "error",
          "ename": "SyntaxError",
          "evalue": "ignored",
          "traceback": [
            "\u001b[0;36m  File \u001b[0;32m\"<ipython-input-14-d321a081f26b>\"\u001b[0;36m, line \u001b[0;32m2\u001b[0m\n\u001b[0;31m    If mark_input<=100 and mark_input>=80:\u001b[0m\n\u001b[0m     ^\u001b[0m\n\u001b[0;31mSyntaxError\u001b[0m\u001b[0;31m:\u001b[0m invalid syntax\n"
          ]
        }
      ]
    },
    {
      "cell_type": "code",
      "metadata": {
        "colab": {
          "base_uri": "https://localhost:8080/",
          "height": 200
        },
        "id": "xCHlhyk51phd",
        "outputId": "4752b289-2bde-41e5-d989-bc93c3ba1af6"
      },
      "source": [
        "import numpy as np\n",
        "array= np.array([0,9])\n",
        "Print(array[0:9])"
      ],
      "execution_count": 19,
      "outputs": [
        {
          "output_type": "error",
          "ename": "NameError",
          "evalue": "ignored",
          "traceback": [
            "\u001b[0;31m---------------------------------------------------------------------------\u001b[0m",
            "\u001b[0;31mNameError\u001b[0m                                 Traceback (most recent call last)",
            "\u001b[0;32m<ipython-input-19-a3a3734c5468>\u001b[0m in \u001b[0;36m<module>\u001b[0;34m()\u001b[0m\n\u001b[1;32m      1\u001b[0m \u001b[0;32mimport\u001b[0m \u001b[0mnumpy\u001b[0m \u001b[0;32mas\u001b[0m \u001b[0mnp\u001b[0m\u001b[0;34m\u001b[0m\u001b[0;34m\u001b[0m\u001b[0m\n\u001b[1;32m      2\u001b[0m \u001b[0marray\u001b[0m\u001b[0;34m=\u001b[0m \u001b[0mnp\u001b[0m\u001b[0;34m.\u001b[0m\u001b[0marray\u001b[0m\u001b[0;34m(\u001b[0m\u001b[0;34m[\u001b[0m\u001b[0;36m0\u001b[0m\u001b[0;34m,\u001b[0m\u001b[0;36m9\u001b[0m\u001b[0;34m]\u001b[0m\u001b[0;34m)\u001b[0m\u001b[0;34m\u001b[0m\u001b[0;34m\u001b[0m\u001b[0m\n\u001b[0;32m----> 3\u001b[0;31m \u001b[0mPrint\u001b[0m\u001b[0;34m(\u001b[0m\u001b[0marray\u001b[0m\u001b[0;34m[\u001b[0m\u001b[0;36m0\u001b[0m\u001b[0;34m,\u001b[0m\u001b[0;36m9\u001b[0m\u001b[0;34m]\u001b[0m\u001b[0;34m)\u001b[0m\u001b[0;34m\u001b[0m\u001b[0;34m\u001b[0m\u001b[0m\n\u001b[0m",
            "\u001b[0;31mNameError\u001b[0m: name 'Print' is not defined"
          ]
        }
      ]
    },
    {
      "cell_type": "code",
      "metadata": {
        "colab": {
          "base_uri": "https://localhost:8080/"
        },
        "id": "rKWIq_5B_xrh",
        "outputId": "6b0ba9c9-b4f4-4d73-cac1-e0e3315e75e7"
      },
      "source": [
        "import numpy as np\n",
        "eye=np.eye((3),dtype=bool)\n",
        "print(eye)"
      ],
      "execution_count": 22,
      "outputs": [
        {
          "output_type": "stream",
          "name": "stdout",
          "text": [
            "[[ True False False]\n",
            " [False  True False]\n",
            " [False False  True]]\n"
          ]
        }
      ]
    },
    {
      "cell_type": "code",
      "metadata": {
        "colab": {
          "base_uri": "https://localhost:8080/"
        },
        "id": "2b6CGKdrDTc5",
        "outputId": "89c82ba0-5ffc-461b-e02b-d974d81f325c"
      },
      "source": [
        "import numpy as np\n",
        "array=np.arange(1,10)\n",
        "print (array)\n",
        "print(\"divide\",array/2)\n",
        "print(\"substract\",array-2)"
      ],
      "execution_count": 23,
      "outputs": [
        {
          "output_type": "stream",
          "name": "stdout",
          "text": [
            "[1 2 3 4 5 6 7 8 9]\n",
            "divide [0.5 1.  1.5 2.  2.5 3.  3.5 4.  4.5]\n",
            "substract [-1  0  1  2  3  4  5  6  7]\n"
          ]
        }
      ]
    },
    {
      "cell_type": "code",
      "metadata": {
        "colab": {
          "base_uri": "https://localhost:8080/",
          "height": 130
        },
        "id": "Q-CZZQJIFUku",
        "outputId": "082e8c7e-abef-4fbf-f9df-ce5021756a87"
      },
      "source": [
        "import numpy as np\n",
        "array=np.array([1,2,3,4,5,6])\n",
        "new Array= array.reshape(2,2))\n",
        "print (new Array)"
      ],
      "execution_count": 47,
      "outputs": [
        {
          "output_type": "error",
          "ename": "SyntaxError",
          "evalue": "ignored",
          "traceback": [
            "\u001b[0;36m  File \u001b[0;32m\"<ipython-input-47-94b044371314>\"\u001b[0;36m, line \u001b[0;32m3\u001b[0m\n\u001b[0;31m    new Array= array.reshape(2,2))\u001b[0m\n\u001b[0m            ^\u001b[0m\n\u001b[0;31mSyntaxError\u001b[0m\u001b[0;31m:\u001b[0m invalid syntax\n"
          ]
        }
      ]
    },
    {
      "cell_type": "code",
      "metadata": {
        "colab": {
          "base_uri": "https://localhost:8080/"
        },
        "id": "e3T4f3y4LrTt",
        "outputId": "d4b51b7a-7211-4f64-d625-242f5b8f7203"
      },
      "source": [
        "import numpy as np\n",
        "a=np.arange(1,10).reshape(3,3)\n",
        "b=np.arange(10,19).reshape(3,3)\n",
        "c=np.dot(a,b)\n",
        "print(c)\n"
      ],
      "execution_count": 44,
      "outputs": [
        {
          "output_type": "stream",
          "name": "stdout",
          "text": [
            "[[ 84  90  96]\n",
            " [201 216 231]\n",
            " [318 342 366]]\n"
          ]
        }
      ]
    },
    {
      "cell_type": "code",
      "metadata": {
        "colab": {
          "base_uri": "https://localhost:8080/"
        },
        "id": "uGO4FZQRN3PV",
        "outputId": "c79b117c-e873-4b13-b2f9-a1e1b4a7933d"
      },
      "source": [
        "import numpy as np\n",
        "a=np.arange(1,10).reshape(3,3)\n",
        "b=np.arange(10,19).reshape(3,3)\n",
        "c=np.dot(a,b)\n",
        "sum = np.sum(c)\n",
        "print(sum) "
      ],
      "execution_count": 46,
      "outputs": [
        {
          "output_type": "stream",
          "name": "stdout",
          "text": [
            "1944\n"
          ]
        }
      ]
    }
  ]
}